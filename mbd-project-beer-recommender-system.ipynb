{
 "cells": [
  {
   "cell_type": "markdown",
   "metadata": {},
   "source": [
    "Step 1: Prior to uploading the data into pyspark, load the beerreviews.csv dataset into S3 bucket.  The csv can be downloaded from: https://www.kaggle.com/rdoume/beerreviews#__sid=js0"
   ]
  },
  {
   "cell_type": "code",
   "execution_count": 31,
   "metadata": {},
   "outputs": [
    {
     "data": {
      "application/vnd.jupyter.widget-view+json": {
       "model_id": "",
       "version_major": 2,
       "version_minor": 0
      },
      "text/plain": [
       "FloatProgress(value=0.0, bar_style='info', description='Progress:', layout=Layout(height='25px', width='50%'),…"
      ]
     },
     "metadata": {},
     "output_type": "display_data"
    }
   ],
   "source": [
    "# Define a manual schema\n",
    "from pyspark.sql.types import StructField, StructType, StringType, LongType, IntegerType,DoubleType, DateType\n",
    "\n",
    "manual_schema = StructType([\n",
    "    StructField(\"brewery_id\", IntegerType(), False),\n",
    "    StructField(\"brewery_name\", StringType(), False),\n",
    "    StructField(\"review_time\", IntegerType(), False),\n",
    "    StructField(\"review_overall\", DoubleType(), False),\n",
    "    StructField(\"review_aroma\", DoubleType(), False),\n",
    "    StructField(\"review_appearance\", DoubleType(), False),\n",
    "    StructField(\"review_profilename\", StringType(), False),\n",
    "    StructField(\"beer_style\", StringType(), False),\n",
    "    StructField(\"review_palate\", DoubleType(), False),\n",
    "    StructField(\"review_taste\", DoubleType(), False),\n",
    "    StructField(\"beer_name\", StringType(), False),\n",
    "    StructField(\"beer_abv\", DoubleType(), False),\n",
    "    StructField(\"beer_beerid\", IntegerType(), False)])"
   ]
  },
  {
   "cell_type": "code",
   "execution_count": 32,
   "metadata": {},
   "outputs": [
    {
     "data": {
      "application/vnd.jupyter.widget-view+json": {
       "model_id": "",
       "version_major": 2,
       "version_minor": 0
      },
      "text/plain": [
       "FloatProgress(value=0.0, bar_style='info', description='Progress:', layout=Layout(height='25px', width='50%'),…"
      ]
     },
     "metadata": {},
     "output_type": "display_data"
    }
   ],
   "source": [
    "# read in the data from S3 bucket\n",
    "beer = spark.read.format(\"csv\").schema(manual_schema).option(\"header\", \"true\").csv('s3://mboken-bigdata/beerreviews/beer_reviews.csv')"
   ]
  },
  {
   "cell_type": "code",
   "execution_count": 33,
   "metadata": {},
   "outputs": [
    {
     "data": {
      "application/vnd.jupyter.widget-view+json": {
       "model_id": "",
       "version_major": 2,
       "version_minor": 0
      },
      "text/plain": [
       "FloatProgress(value=0.0, bar_style='info', description='Progress:', layout=Layout(height='25px', width='50%'),…"
      ]
     },
     "metadata": {},
     "output_type": "display_data"
    },
    {
     "name": "stdout",
     "output_type": "stream",
     "text": [
      "root\n",
      " |-- brewery_id: integer (nullable = true)\n",
      " |-- brewery_name: string (nullable = true)\n",
      " |-- review_time: integer (nullable = true)\n",
      " |-- review_overall: double (nullable = true)\n",
      " |-- review_aroma: double (nullable = true)\n",
      " |-- review_appearance: double (nullable = true)\n",
      " |-- review_profilename: string (nullable = true)\n",
      " |-- beer_style: string (nullable = true)\n",
      " |-- review_palate: double (nullable = true)\n",
      " |-- review_taste: double (nullable = true)\n",
      " |-- beer_name: string (nullable = true)\n",
      " |-- beer_abv: double (nullable = true)\n",
      " |-- beer_beerid: integer (nullable = true)"
     ]
    }
   ],
   "source": [
    "# check that the schema was successful\n",
    "beer.printSchema()"
   ]
  },
  {
   "cell_type": "code",
   "execution_count": 34,
   "metadata": {},
   "outputs": [
    {
     "data": {
      "application/vnd.jupyter.widget-view+json": {
       "model_id": "",
       "version_major": 2,
       "version_minor": 0
      },
      "text/plain": [
       "FloatProgress(value=0.0, bar_style='info', description='Progress:', layout=Layout(height='25px', width='50%'),…"
      ]
     },
     "metadata": {},
     "output_type": "display_data"
    },
    {
     "name": "stdout",
     "output_type": "stream",
     "text": [
      "[Row(brewery_id=10325, brewery_name='Vecchio Birraio', review_time=1234817823, review_overall=1.5, review_aroma=2.0, review_appearance=2.5, review_profilename='stcules', beer_style='Hefeweizen', review_palate=1.5, review_taste=1.5, beer_name='Sausa Weizen', beer_abv=5.0, beer_beerid=47986), Row(brewery_id=10325, brewery_name='Vecchio Birraio', review_time=1235915097, review_overall=3.0, review_aroma=2.5, review_appearance=3.0, review_profilename='stcules', beer_style='English Strong Ale', review_palate=3.0, review_taste=3.0, beer_name='Red Moon', beer_abv=6.2, beer_beerid=48213), Row(brewery_id=10325, brewery_name='Vecchio Birraio', review_time=1235916604, review_overall=3.0, review_aroma=2.5, review_appearance=3.0, review_profilename='stcules', beer_style='Foreign / Export Stout', review_palate=3.0, review_taste=3.0, beer_name='Black Horse Black Beer', beer_abv=6.5, beer_beerid=48215), Row(brewery_id=10325, brewery_name='Vecchio Birraio', review_time=1234725145, review_overall=3.0, review_aroma=3.0, review_appearance=3.5, review_profilename='stcules', beer_style='German Pilsener', review_palate=2.5, review_taste=3.0, beer_name='Sausa Pils', beer_abv=5.0, beer_beerid=47969), Row(brewery_id=1075, brewery_name='Caldera Brewing Company', review_time=1293735206, review_overall=4.0, review_aroma=4.5, review_appearance=4.0, review_profilename='johnmichaelsen', beer_style='American Double / Imperial IPA', review_palate=4.0, review_taste=4.5, beer_name='Cauldron DIPA', beer_abv=7.7, beer_beerid=64883)]"
     ]
    }
   ],
   "source": [
    "# check out the first few rows\n",
    "beer.take(5)"
   ]
  },
  {
   "cell_type": "code",
   "execution_count": 8,
   "metadata": {},
   "outputs": [
    {
     "data": {
      "application/vnd.jupyter.widget-view+json": {
       "model_id": "",
       "version_major": 2,
       "version_minor": 0
      },
      "text/plain": [
       "FloatProgress(value=0.0, bar_style='info', description='Progress:', layout=Layout(height='25px', width='50%'),…"
      ]
     },
     "metadata": {},
     "output_type": "display_data"
    },
    {
     "name": "stdout",
     "output_type": "stream",
     "text": [
      "2"
     ]
    }
   ],
   "source": [
    "# find number of partitions\n",
    "beer.rdd.getNumPartitions()"
   ]
  },
  {
   "cell_type": "code",
   "execution_count": null,
   "metadata": {},
   "outputs": [],
   "source": [
    "# possibly partition on a specific column?\n",
    "# put that here"
   ]
  },
  {
   "cell_type": "code",
   "execution_count": 9,
   "metadata": {},
   "outputs": [
    {
     "data": {
      "application/vnd.jupyter.widget-view+json": {
       "model_id": "",
       "version_major": 2,
       "version_minor": 0
      },
      "text/plain": [
       "FloatProgress(value=0.0, bar_style='info', description='Progress:', layout=Layout(height='25px', width='50%'),…"
      ]
     },
     "metadata": {},
     "output_type": "display_data"
    },
    {
     "name": "stdout",
     "output_type": "stream",
     "text": [
      "+-------+------------------+------------------+------------------+------------------+------------------+\n",
      "|summary|      review_aroma| review_appearance|     review_palate|      review_taste|          beer_abv|\n",
      "+-------+------------------+------------------+------------------+------------------+------------------+\n",
      "|  count|           1586614|           1586614|           1586614|           1586614|           1518829|\n",
      "|   mean| 3.735636077836197|3.8416416973504584|3.7437013665579655| 3.792860456292457| 7.042386753219579|\n",
      "| stddev|0.6976167287896318|0.6160927688920651|0.6822183633739453|0.7319696098919132|2.3225259927418085|\n",
      "|    min|               1.0|               0.0|               1.0|               1.0|              0.01|\n",
      "|    max|               5.0|               5.0|               5.0|               5.0|              57.7|\n",
      "+-------+------------------+------------------+------------------+------------------+------------------+"
     ]
    }
   ],
   "source": [
    "# get summary statistics for some of the numerical variables\n",
    "dscr_cols = ['review_aroma', 'review_appearance', 'review_palate', 'review_taste', 'beer_abv']\n",
    "beer.select(dscr_cols).describe().show()"
   ]
  },
  {
   "cell_type": "code",
   "execution_count": 10,
   "metadata": {},
   "outputs": [
    {
     "data": {
      "application/vnd.jupyter.widget-view+json": {
       "model_id": "",
       "version_major": 2,
       "version_minor": 0
      },
      "text/plain": [
       "FloatProgress(value=0.0, bar_style='info', description='Progress:', layout=Layout(height='25px', width='50%'),…"
      ]
     },
     "metadata": {},
     "output_type": "display_data"
    }
   ],
   "source": [
    "# use Spark SQL to generate insights\n",
    "from pyspark.sql import SQLContext\n",
    "sqlContext = SQLContext(sc)"
   ]
  },
  {
   "cell_type": "code",
   "execution_count": 11,
   "metadata": {},
   "outputs": [
    {
     "data": {
      "application/vnd.jupyter.widget-view+json": {
       "model_id": "",
       "version_major": 2,
       "version_minor": 0
      },
      "text/plain": [
       "FloatProgress(value=0.0, bar_style='info', description='Progress:', layout=Layout(height='25px', width='50%'),…"
      ]
     },
     "metadata": {},
     "output_type": "display_data"
    }
   ],
   "source": [
    "# read files into Spark SQL table\n",
    "beer.registerTempTable(\"beer\")"
   ]
  },
  {
   "cell_type": "code",
   "execution_count": null,
   "metadata": {},
   "outputs": [],
   "source": [
    "# TODO: input queries here"
   ]
  },
  {
   "cell_type": "code",
   "execution_count": null,
   "metadata": {},
   "outputs": [],
   "source": [
    "# TODO: visualizations"
   ]
  },
  {
   "cell_type": "markdown",
   "metadata": {},
   "source": [
    "To be able to use Python libraries like Seaborn, type the following command into the shell:\n",
    "sudo python3.7 -m pip install seaborn"
   ]
  },
  {
   "cell_type": "code",
   "execution_count": 35,
   "metadata": {},
   "outputs": [
    {
     "data": {
      "application/vnd.jupyter.widget-view+json": {
       "model_id": "",
       "version_major": 2,
       "version_minor": 0
      },
      "text/plain": [
       "FloatProgress(value=0.0, bar_style='info', description='Progress:', layout=Layout(height='25px', width='50%'),…"
      ]
     },
     "metadata": {},
     "output_type": "display_data"
    }
   ],
   "source": [
    "# recommendation engine using ALS\n",
    "# https://spark.apache.org/docs/2.2.0/api/python/pyspark.ml.html#pyspark.ml.recommendation.ALS\n",
    "from pyspark.ml.recommendation import ALS"
   ]
  },
  {
   "cell_type": "code",
   "execution_count": 36,
   "metadata": {},
   "outputs": [
    {
     "data": {
      "application/vnd.jupyter.widget-view+json": {
       "model_id": "",
       "version_major": 2,
       "version_minor": 0
      },
      "text/plain": [
       "FloatProgress(value=0.0, bar_style='info', description='Progress:', layout=Layout(height='25px', width='50%'),…"
      ]
     },
     "metadata": {},
     "output_type": "display_data"
    }
   ],
   "source": [
    "# ALS requires that the userCol be an integer, but we currently have unique identifiers that are strings.\n",
    "# solution: use string indexer from spark mllib to create a unique id for each user name\n",
    "# https://spark.apache.org/docs/latest/ml-features.html#stringindexer \n",
    "from pyspark.ml.feature import StringIndexer\n",
    "\n",
    "indexer = StringIndexer(inputCol=\"review_profilename\", outputCol=\"user_id\")\n",
    "# set setHandleInvalid to skip to avoid errors for nulls\n",
    "beer = indexer.setHandleInvalid(\"skip\").fit(beer).transform(beer)"
   ]
  },
  {
   "cell_type": "code",
   "execution_count": 38,
   "metadata": {},
   "outputs": [
    {
     "data": {
      "application/vnd.jupyter.widget-view+json": {
       "model_id": "",
       "version_major": 2,
       "version_minor": 0
      },
      "text/plain": [
       "FloatProgress(value=0.0, bar_style='info', description='Progress:', layout=Layout(height='25px', width='50%'),…"
      ]
     },
     "metadata": {},
     "output_type": "display_data"
    }
   ],
   "source": [
    "# split our data into training and test\n",
    "(training, test) = beer.randomSplit([0.8, 0.2])"
   ]
  },
  {
   "cell_type": "code",
   "execution_count": 73,
   "metadata": {},
   "outputs": [
    {
     "data": {
      "application/vnd.jupyter.widget-view+json": {
       "model_id": "",
       "version_major": 2,
       "version_minor": 0
      },
      "text/plain": [
       "FloatProgress(value=0.0, bar_style='info', description='Progress:', layout=Layout(height='25px', width='50%'),…"
      ]
     },
     "metadata": {},
     "output_type": "display_data"
    }
   ],
   "source": [
    "# Import the required functions\n",
    "from pyspark.ml.evaluation import RegressionEvaluator\n",
    "from pyspark.ml.recommendation import ALS\n",
    "\n",
    "als = ALS(\n",
    "    # the users are represented by the column review_profilename\n",
    "         userCol=\"user_id\", \n",
    "    # the items we are recommending are in the beer_name column\n",
    "         itemCol=\"beer_beerid\",\n",
    "    # we will use the overall review to make the predictions\n",
    "         ratingCol=\"review_overall\", \n",
    "    # the preferences are explicit (i.e. a user explictly rated beer X as Y)\n",
    "         implicitPrefs = False, \n",
    "    # drop rows with NA values\n",
    "    coldStartStrategy=\"drop\")"
   ]
  },
  {
   "cell_type": "code",
   "execution_count": 74,
   "metadata": {},
   "outputs": [
    {
     "data": {
      "application/vnd.jupyter.widget-view+json": {
       "model_id": "",
       "version_major": 2,
       "version_minor": 0
      },
      "text/plain": [
       "FloatProgress(value=0.0, bar_style='info', description='Progress:', layout=Layout(height='25px', width='50%'),…"
      ]
     },
     "metadata": {},
     "output_type": "display_data"
    }
   ],
   "source": [
    "# define evaluator as RMSE\n",
    "# we want to use RMSE to compare our predicted ratings for a user to their actual rating\n",
    "\n",
    "evaluator = RegressionEvaluator(\n",
    "           metricName=\"rmse\", \n",
    "           labelCol=\"review_overall\", \n",
    "           predictionCol=\"prediction\")"
   ]
  },
  {
   "cell_type": "code",
   "execution_count": 75,
   "metadata": {},
   "outputs": [
    {
     "data": {
      "application/vnd.jupyter.widget-view+json": {
       "model_id": "",
       "version_major": 2,
       "version_minor": 0
      },
      "text/plain": [
       "FloatProgress(value=0.0, bar_style='info', description='Progress:', layout=Layout(height='25px', width='50%'),…"
      ]
     },
     "metadata": {},
     "output_type": "display_data"
    }
   ],
   "source": [
    "# fit the model to the training data\n",
    "model = als.fit(training)"
   ]
  },
  {
   "cell_type": "code",
   "execution_count": 76,
   "metadata": {},
   "outputs": [
    {
     "data": {
      "application/vnd.jupyter.widget-view+json": {
       "model_id": "",
       "version_major": 2,
       "version_minor": 0
      },
      "text/plain": [
       "FloatProgress(value=0.0, bar_style='info', description='Progress:', layout=Layout(height='25px', width='50%'),…"
      ]
     },
     "metadata": {},
     "output_type": "display_data"
    }
   ],
   "source": [
    "# use our model to  make predictions for the test data\n",
    "test_predictions = model.transform(test)"
   ]
  },
  {
   "cell_type": "code",
   "execution_count": 77,
   "metadata": {},
   "outputs": [
    {
     "data": {
      "application/vnd.jupyter.widget-view+json": {
       "model_id": "",
       "version_major": 2,
       "version_minor": 0
      },
      "text/plain": [
       "FloatProgress(value=0.0, bar_style='info', description='Progress:', layout=Layout(height='25px', width='50%'),…"
      ]
     },
     "metadata": {},
     "output_type": "display_data"
    },
    {
     "name": "stdout",
     "output_type": "stream",
     "text": [
      "+------------------+--------------+--------------------+----------+\n",
      "|review_profilename|review_overall|           beer_name|prediction|\n",
      "+------------------+--------------+--------------------+----------+\n",
      "|           Rhynes2|           4.0|     Pilsner Urquell| 3.3896742|\n",
      "|         iloveyani|           2.5|         Purple Haze|  3.291819|\n",
      "|        CortexBomb|           3.5|Bert Grant's Impe...| 3.5015614|\n",
      "|        CortexBomb|           4.5|   Widmer Hefeweizen| 3.0609984|\n",
      "|            Buebie|           4.5|    Drifter Pale Ale| 3.7207134|\n",
      "|         beertunes|           4.0|     Pitch Black IPA|  3.687558|\n",
      "|            Buebie|           4.5|      Drop Top Amber| 3.3385055|\n",
      "|         beertunes|           3.0|Barrel Aged Brrrb...| 3.1888351|\n",
      "|         beertunes|           4.0|W'11 (KGB Imperia...| 3.5367568|\n",
      "|          BeefyMee|           1.5|     La Fin Du Monde| 3.9558308|\n",
      "+------------------+--------------+--------------------+----------+\n",
      "only showing top 10 rows"
     ]
    }
   ],
   "source": [
    "# let's take a look at some of the predictions our model made\n",
    "test_predictions.select(['review_profilename', 'review_overall', 'beer_name', 'prediction']).show(n=10)"
   ]
  },
  {
   "cell_type": "code",
   "execution_count": 79,
   "metadata": {},
   "outputs": [
    {
     "data": {
      "application/vnd.jupyter.widget-view+json": {
       "model_id": "",
       "version_major": 2,
       "version_minor": 0
      },
      "text/plain": [
       "FloatProgress(value=0.0, bar_style='info', description='Progress:', layout=Layout(height='25px', width='50%'),…"
      ]
     },
     "metadata": {},
     "output_type": "display_data"
    },
    {
     "name": "stdout",
     "output_type": "stream",
     "text": [
      "Root-mean-square error = 0.549497728214305"
     ]
    }
   ],
   "source": [
    "# it appears that the predictions are not too far from the true rating.  We can calculate the RMSE for the test data\n",
    "rmse = evaluator.evaluate(test_predictions)\n",
    "print('Root-mean-square error = ' + str(rmse))"
   ]
  },
  {
   "cell_type": "markdown",
   "metadata": {},
   "source": [
    "The RMSE for this model is 0.554, meaning that on average, the difference between the actual rating and the prediction is 0.5"
   ]
  },
  {
   "cell_type": "code",
   "execution_count": 78,
   "metadata": {},
   "outputs": [
    {
     "data": {
      "application/vnd.jupyter.widget-view+json": {
       "model_id": "",
       "version_major": 2,
       "version_minor": 0
      },
      "text/plain": [
       "FloatProgress(value=0.0, bar_style='info', description='Progress:', layout=Layout(height='25px', width='50%'),…"
      ]
     },
     "metadata": {},
     "output_type": "display_data"
    },
    {
     "name": "stdout",
     "output_type": "stream",
     "text": [
      "+-------+--------------------+\n",
      "|user_id|     recommendations|\n",
      "+-------+--------------------+\n",
      "|     12|[[32744, 4.999482...|\n",
      "|     65|[[51494, 4.993389...|\n",
      "|     76|[[51494, 5.148505...|\n",
      "|     81|[[51494, 5.184389...|\n",
      "|    122|[[32744, 5.090419...|\n",
      "+-------+--------------------+\n",
      "only showing top 5 rows"
     ]
    }
   ],
   "source": [
    "# now we can use the model to make recommendations for each user.  We can start by making 3 recommendations for each user\n",
    "recommendations = model.recommendForAllUsers(numItems = 3)\n",
    "recommendations.show(5)"
   ]
  },
  {
   "cell_type": "code",
   "execution_count": 81,
   "metadata": {},
   "outputs": [
    {
     "data": {
      "application/vnd.jupyter.widget-view+json": {
       "model_id": "",
       "version_major": 2,
       "version_minor": 0
      },
      "text/plain": [
       "FloatProgress(value=0.0, bar_style='info', description='Progress:', layout=Layout(height='25px', width='50%'),…"
      ]
     },
     "metadata": {},
     "output_type": "display_data"
    },
    {
     "name": "stdout",
     "output_type": "stream",
     "text": [
      "+-------+-----------+---------+\n",
      "|user_id|beer_beerid|   rating|\n",
      "+-------+-----------+---------+\n",
      "|      1|      51494|5.2669983|\n",
      "|      1|      32744|5.1986384|\n",
      "|      1|      42941| 5.146857|\n",
      "|      3|      51494| 5.119087|\n",
      "|      3|      76583| 4.885499|\n",
      "|      3|      32744|4.8575177|\n",
      "|      6|      32744| 4.863537|\n",
      "|      6|      47661|  4.83607|\n",
      "|      6|      42941|  4.83607|\n",
      "|     64|      35361| 5.014617|\n",
      "+-------+-----------+---------+"
     ]
    }
   ],
   "source": [
    "# these ratings are not interpretable.  Let's convert it into an interpretable format\n",
    "# https://towardsdatascience.com/build-recommendation-system-with-pyspark-using-alternating-least-squares-als-matrix-factorisation-ebe1ad2e7679\n",
    "from pyspark.sql.functions import explode, col\n",
    "\n",
    "recommendations = recommendations\\\n",
    "    .withColumn(\"rec_exp\", explode(\"recommendations\"))\\\n",
    "    .select('user_id', col(\"rec_exp.beer_beerid\"), col(\"rec_exp.rating\"))\n",
    "\n",
    "recommendations.limit(10).show()"
   ]
  },
  {
   "cell_type": "code",
   "execution_count": 109,
   "metadata": {},
   "outputs": [
    {
     "data": {
      "application/vnd.jupyter.widget-view+json": {
       "model_id": "",
       "version_major": 2,
       "version_minor": 0
      },
      "text/plain": [
       "FloatProgress(value=0.0, bar_style='info', description='Progress:', layout=Layout(height='25px', width='50%'),…"
      ]
     },
     "metadata": {},
     "output_type": "display_data"
    }
   ],
   "source": [
    "# register recommendations as a table\n",
    "recommendations.registerTempTable(\"recommendations\")"
   ]
  },
  {
   "cell_type": "code",
   "execution_count": null,
   "metadata": {},
   "outputs": [],
   "source": [
    "# try joining recommendations with predictions to get the user name back"
   ]
  },
  {
   "cell_type": "code",
   "execution_count": 119,
   "metadata": {},
   "outputs": [
    {
     "data": {
      "application/vnd.jupyter.widget-view+json": {
       "model_id": "",
       "version_major": 2,
       "version_minor": 0
      },
      "text/plain": [
       "FloatProgress(value=0.0, bar_style='info', description='Progress:', layout=Layout(height='25px', width='50%'),…"
      ]
     },
     "metadata": {},
     "output_type": "display_data"
    },
    {
     "name": "stdout",
     "output_type": "stream",
     "text": [
      "[Row(user_id=1, beer_beerid=51494, rating=5.266998291015625), Row(user_id=1, beer_beerid=32744, rating=5.198638439178467), Row(user_id=1, beer_beerid=42941, rating=5.146856784820557)]"
     ]
    }
   ],
   "source": [
    "# check the recommendations for a user to make sure that they make sense\n",
    "recommendations.where(recommendations.user_id == 1).select(\"user_id\", \"beer_beerid\", \"rating\").collect()"
   ]
  },
  {
   "cell_type": "code",
   "execution_count": 111,
   "metadata": {},
   "outputs": [
    {
     "data": {
      "application/vnd.jupyter.widget-view+json": {
       "model_id": "",
       "version_major": 2,
       "version_minor": 0
      },
      "text/plain": [
       "FloatProgress(value=0.0, bar_style='info', description='Progress:', layout=Layout(height='25px', width='50%'),…"
      ]
     },
     "metadata": {},
     "output_type": "display_data"
    },
    {
     "name": "stdout",
     "output_type": "stream",
     "text": [
      "+------------------+---------+--------------------+--------------------+\n",
      "|review_profilename|   rating|        brewery_name|           beer_name|\n",
      "+------------------+---------+--------------------+--------------------+\n",
      "|         beertunes|5.9246755|Alpine Brewing Co...|              Märzen|\n",
      "|         beertunes|5.5589724|      Big Al Brewing|        Summer Lager|\n",
      "|         beertunes|3.9205563|Anacortes Brewery...|        Belgian Sour|\n",
      "|         beertunes|2.3909724|Boundary Bay Brew...|Oak Aged Cabin Fe...|\n",
      "|         beertunes|7.3559165|      Big Al Brewing|        Summer Lager|\n",
      "|         beertunes| 5.201452|Anacortes Brewery...|Anacortes Hefewezien|\n",
      "|         beertunes|5.8828206|Alpine Brewing Co...|              Märzen|\n",
      "|         beertunes| 6.328036|Anacortes Brewery...|Anacortes Hefewezien|\n",
      "|         beertunes|1.3913641|Anacortes Brewery...|        Belgian Sour|\n",
      "|         beertunes|3.5028129|Boundary Bay Brew...|Oak Aged Cabin Fe...|\n",
      "|         beertunes|5.6839643|Anacortes Brewery...|Anacortes Hefewezien|\n",
      "|         beertunes|2.6613348|Anacortes Brewery...|Anacortes Hefewezien|\n",
      "|         beertunes| 5.125594|      Big Al Brewing|        Summer Lager|\n",
      "|         beertunes| 5.222707|Bayern Brewing, Inc.|          Dump Truck|\n",
      "|         beertunes|4.8326063|Anacortes Brewery...|        Belgian Sour|\n",
      "|         beertunes| 5.396482|Boundary Bay Brew...|Oak Aged Cabin Fe...|\n",
      "|         beertunes| 6.653336|Anacortes Brewery...|Anacortes Hefewezien|\n",
      "|         beertunes| 5.657406|Anacortes Brewery...|Anacortes Hefewezien|\n",
      "|         beertunes|5.4198914|      Big Al Brewing|        Summer Lager|\n",
      "|         beertunes|3.8098748|Alpine Brewing Co...|              Märzen|\n",
      "+------------------+---------+--------------------+--------------------+\n",
      "only showing top 20 rows"
     ]
    }
   ],
   "source": [
    "# let's compare the user's recommended beers to the beers they actually rated the highest\n",
    "user1_preferences = sqlContext.sql(\"SELECT DISTINCT b.review_profilename, b.review_overall, b.brewery_name, b.beer_name FROM recommendations AS r JOIN beer AS b ON r.beer_beerid = b.beer_beerid WHERE review_profilename = 'beertunes' \")\n",
    "user1.show()"
   ]
  }
 ],
 "metadata": {
  "kernelspec": {
   "display_name": "PySpark",
   "language": "",
   "name": "pysparkkernel"
  },
  "language_info": {
   "codemirror_mode": {
    "name": "python",
    "version": 3
   },
   "mimetype": "text/x-python",
   "name": "pyspark",
   "pygments_lexer": "python3"
  }
 },
 "nbformat": 4,
 "nbformat_minor": 4
}
